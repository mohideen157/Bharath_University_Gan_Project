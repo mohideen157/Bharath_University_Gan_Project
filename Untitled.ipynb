{
 "cells": [
  {
   "cell_type": "code",
   "execution_count": null,
   "metadata": {},
   "outputs": [],
   "source": [
    "#!/usr/bin/python\n",
    "from PIL import Image\n",
    "import os, sys\n",
    "\n",
    "path = \"C:\\\\Users\\DELL\\Documents\\major projects\\datasets\\brain_tumor_dataset\\images\\\",\n",
    "\n",
    "dirs = os.listdir( path )\n",
    "\n",
    "def resize():\n",
    "    for item in dirs:\n",
    "        if os.path.isfile(path+item):\n",
    "            im = Image.open(path+item)\n",
    "            f, e = os.path.splitext(path+item)\n",
    "            imResize = im.resize((100,100), Image.ANTIALIAS)\n",
    "            imResize.save(f + ' resized.png', 'png', quality=90)\n",
    "\n",
    "resize()"
   ]
  },
  {
   "cell_type": "code",
   "execution_count": null,
   "metadata": {},
   "outputs": [],
   "source": [
    "pip install python-resize-image"
   ]
  },
  {
   "cell_type": "code",
   "execution_count": null,
   "metadata": {},
   "outputs": [],
   "source": [
    "\n",
    "import Image\n",
    "import os, sys\n",
    "\n",
    "def resizeImage(infile, output_dir=\"C:\\\\Users\\DELL\\Documents\\major projects\\datasets\\images\", size=(128,128)):\n",
    "     outfile = os.path.splitext(infile)[0]+\"_resized\"\n",
    "     extension = os.path.splitext(infile)[1]\n",
    "\n",
    "     if (cmp(extension, \".png\")):\n",
    "        return\n",
    "\n",
    "     if infile != outfile:\n",
    "        try :\n",
    "            im = Image.open(infile)\n",
    "            im.thumbnail(size, Image.ANTIALIAS)\n",
    "            im.save(output_dir+outfile+extension,\"png\")\n",
    "        except IOError:\n",
    "            print \"cannot reduce image for \", infile\n",
    "\n",
    "\n",
    "if __name__==\"__main__\":\n",
    "    output_dir = \"resized\"\n",
    "    dir = os.getcwd()\n",
    "\n",
    "    if not os.path.exists(os.path.join(dir,output_dir)):\n",
    "        os.mkdir(output_dir)\n",
    "\n",
    "    for file in os.listdir(dir):\n",
    "        resizeImage(file,output_dir)"
   ]
  },
  {
   "cell_type": "code",
   "execution_count": null,
   "metadata": {},
   "outputs": [],
   "source": [
    "from PIL import Image\n",
    "\n",
    "img = Image.open('C:\\\\Users\\DELL\\Documents\\major projects\\datasets\\images\\00000001_000.png') # image extension *.png,*.jpg\n",
    "new_width  = 256\n",
    "new_height = 256\n",
    "img = img.resize((new_width, new_height), Image.ANTIALIAS)\n",
    "img.save('first.png') # format may what u want ,*.png,*jpg,*.gif"
   ]
  },
  {
   "cell_type": "code",
   "execution_count": null,
   "metadata": {},
   "outputs": [],
   "source": [
    "from PIL import Image\n",
    "import os, sys\n",
    "\n",
    "path = \"C:\\\\Users\\\\DELL\\\\Documents\\\\major projects\\\\datasets\\x08rain_tumor_dataset\\\\images\"\n",
    "dirs = os.listdir( path )\n",
    "\n",
    "def resize():\n",
    "    for item in dirs:\n",
    "        if os.path.isfile(path+item):\n",
    "            im = Image.open(path+item)\n",
    "            f, e = os.path.splitext(path+item)\n",
    "            imResize = im.resize((200,200), Image.ANTIALIAS)\n",
    "            imResize.save(f + ' resized.jpg', 'JPEG', quality=90)\n",
    "\n",
    "resize()"
   ]
  },
  {
   "cell_type": "code",
   "execution_count": 1,
   "metadata": {},
   "outputs": [
    {
     "name": "stdout",
     "output_type": "stream",
     "text": [
      "Requirement already satisfied: Pillow in c:\\users\\dell\\anaconda3\\lib\\site-packages (7.0.0)\n",
      "Note: you may need to restart the kernel to use updated packages.\n"
     ]
    }
   ],
   "source": [
    "pip install Pillow"
   ]
  },
  {
   "cell_type": "code",
   "execution_count": null,
   "metadata": {},
   "outputs": [],
   "source": []
  }
 ],
 "metadata": {
  "kernelspec": {
   "display_name": "Python 3",
   "language": "python",
   "name": "python3"
  },
  "language_info": {
   "codemirror_mode": {
    "name": "ipython",
    "version": 3
   },
   "file_extension": ".py",
   "mimetype": "text/x-python",
   "name": "python",
   "nbconvert_exporter": "python",
   "pygments_lexer": "ipython3",
   "version": "3.7.6"
  }
 },
 "nbformat": 4,
 "nbformat_minor": 2
}
